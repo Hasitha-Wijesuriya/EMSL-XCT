{
 "cells": [
  {
   "cell_type": "code",
   "execution_count": 2,
   "metadata": {},
   "outputs": [
    {
     "name": "stdout",
     "output_type": "stream",
     "text": [
      "The autoreload extension is already loaded. To reload it, use:\n",
      "  %reload_ext autoreload\n"
     ]
    },
    {
     "data": {
      "text/plain": [
       "<matplotlib.pyplot._IonContext at 0x1129b6520>"
      ]
     },
     "execution_count": 2,
     "metadata": {},
     "output_type": "execute_result"
    }
   ],
   "source": [
    "%load_ext autoreload\n",
    "%autoreload 2\n",
    "%matplotlib widget\n",
    "import sys\n",
    "import os\n",
    "import multiprocessing as mp\n",
    "import numpy as np\n",
    "import dxchange\n",
    "import matplotlib.pyplot as plt\n",
    "import ipywidgets as widgets\n",
    "from ipywidgets import interact, fixed, IntSlider\n",
    "from ipyfilechooser import FileChooser\n",
    "sys.path.append('backend')\n",
    "import recon_functions as rf\n",
    "import recon_helper as helper\n",
    "plt.ion() # this makes all the plots update properly\n",
    "# use_gpu = rf.check_for_gpu()"
   ]
  },
  {
   "cell_type": "markdown",
   "metadata": {},
   "source": [
    "## Choose the file path to read the data"
   ]
  },
  {
   "cell_type": "code",
   "execution_count": 3,
   "metadata": {},
   "outputs": [
    {
     "data": {
      "text/plain": [
       "'/Users/wije370/Library/CloudStorage/OneDrive-PNNL/Documents/EMSL-XCT'"
      ]
     },
     "execution_count": 3,
     "metadata": {},
     "output_type": "execute_result"
    }
   ],
   "source": [
    "os.getcwd() "
   ]
  },
  {
   "cell_type": "code",
   "execution_count": 4,
   "metadata": {},
   "outputs": [
    {
     "data": {
      "application/vnd.jupyter.widget-view+json": {
       "model_id": "cd25cdb6dfd640aeac796bccce11e305",
       "version_major": 2,
       "version_minor": 0
      },
      "text/plain": [
       "FileChooser(path='/Users/wije370/Library/CloudStorage/OneDrive-PNNL/Desktop/Hasitha_XCT', filename='', title='…"
      ]
     },
     "metadata": {},
     "output_type": "display_data"
    }
   ],
   "source": [
    "dataDir = \"/Users/wije370/Desktop/Hasitha_XCT/\" if os.path.exists(\"/Users/wije370\") else os.getcwd() #change the path accordingly\n",
    "\n",
    "file_chooser = FileChooser(dataDir)\n",
    "file_chooser.filter_pattern = '' # only show .h5 files\n",
    "file_chooser.title = f'Choose data file'\n",
    "display(file_chooser)"
   ]
  },
  {
   "cell_type": "markdown",
   "metadata": {},
   "source": [
    "## Find the centre of rotation"
   ]
  },
  {
   "cell_type": "code",
   "execution_count": null,
   "metadata": {},
   "outputs": [],
   "source": [
    "if file_chooser.selected is None:\n",
    "    print(\"No datafile selected. Click Select to choose a datafile\")\n",
    "    sys.exit()\n",
    "metadata = rf.read_metadata(file_chooser.selected, print_flag = True)\n",
    "tomo, _ = rf.read_data(file_chooser.selected, proj=slice(0,None,metadata['numangles']-1), downsample_factor=None, prelog=True)\n",
    "first_proj, last_proj_flipped = tomo[0], np.fliplr(tomo[-2])\n",
    "cor_init, cor_tomo = rf.auto_find_cor(file_chooser.selected) # cross-correlation based COR estimate\n",
    "first_proj, last_proj_flipped = cor_tomo[0], np.fliplr(cor_tomo[1])\n",
    "\n",
    "axs, img, cor_sliders, cor_out = rf.plot_0_and_180_proj_diff(first_proj,\n",
    "                                                              last_proj_flipped,\n",
    "                                                              init_cor=-2*cor_init,\n",
    "                                                              # yshift=True,\n",
    "                                                              fignum=0)\n",
    "                                                            \n",
    "display(cor_sliders)\n",
    "# display(cor_sliders,cor_out)"
   ]
  },
  {
   "cell_type": "code",
   "execution_count": null,
   "metadata": {},
   "outputs": [],
   "source": []
  }
 ],
 "metadata": {
  "kernelspec": {
   "display_name": "emsl-xct",
   "language": "python",
   "name": "python3"
  },
  "language_info": {
   "codemirror_mode": {
    "name": "ipython",
    "version": 3
   },
   "file_extension": ".py",
   "mimetype": "text/x-python",
   "name": "python",
   "nbconvert_exporter": "python",
   "pygments_lexer": "ipython3",
   "version": "3.9.18"
  }
 },
 "nbformat": 4,
 "nbformat_minor": 2
}
